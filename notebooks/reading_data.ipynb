{
 "cells": [
  {
   "cell_type": "code",
   "execution_count": 1,
   "id": "38f55849-8d4d-493f-9c33-522f69d5a61a",
   "metadata": {},
   "outputs": [
    {
     "name": "stdout",
     "output_type": "stream",
     "text": [
      "shape: (5, 52)\n",
      "┌───────────┬───────────┬───────────┬───────────┬───┬───────────┬───────────┬───────────┬──────────┐\n",
      "│ id        ┆ doi       ┆ title     ┆ display_n ┆ … ┆ counts_by ┆ updated_d ┆ created_d ┆ is_autho │\n",
      "│ ---       ┆ ---       ┆ ---       ┆ ame       ┆   ┆ _year     ┆ ate       ┆ ate       ┆ rs_trunc │\n",
      "│ str       ┆ str       ┆ str       ┆ ---       ┆   ┆ ---       ┆ ---       ┆ ---       ┆ ated     │\n",
      "│           ┆           ┆           ┆ str       ┆   ┆ str       ┆ str       ┆ str       ┆ ---      │\n",
      "│           ┆           ┆           ┆           ┆   ┆           ┆           ┆           ┆ bool     │\n",
      "╞═══════════╪═══════════╪═══════════╪═══════════╪═══╪═══════════╪═══════════╪═══════════╪══════════╡\n",
      "│ https://o ┆ https://d ┆ Ferroptos ┆ Ferroptos ┆ … ┆ [{\"year\": ┆ 2025-04-2 ┆ 2017-10-2 ┆ null     │\n",
      "│ penalex.o ┆ oi.org/10 ┆ is: A     ┆ is: A     ┆   ┆ 2025, \"ci ┆ 5T18:28:4 ┆ 0         ┆          │\n",
      "│ rg/W27620 ┆ .1016/j.c ┆ Regulated ┆ Regulated ┆   ┆ ted_by_co ┆ 5.146430  ┆           ┆          │\n",
      "│ 871…      ┆ ell…      ┆ Cell …    ┆ Cell …    ┆   ┆ un…       ┆           ┆           ┆          │\n",
      "│ https://o ┆ https://d ┆ Epidemiol ┆ Epidemiol ┆ … ┆ [{\"year\": ┆ 2025-04-2 ┆ 2016-06-2 ┆ null     │\n",
      "│ penalex.o ┆ oi.org/10 ┆ ogy,      ┆ ogy,      ┆   ┆ 2025, \"ci ┆ 5T00:41:5 ┆ 4         ┆          │\n",
      "│ rg/W22862 ┆ .1001/jam ┆ Patterns  ┆ Patterns  ┆   ┆ ted_by_co ┆ 1.704754  ┆           ┆          │\n",
      "│ 280…      ┆ a.2…      ┆ of Care…  ┆ of Care…  ┆   ┆ un…       ┆           ┆           ┆          │\n",
      "│ https://o ┆ https://d ┆ Osimertin ┆ Osimertin ┆ … ┆ [{\"year\": ┆ 2025-04-2 ┆ 2017-12-0 ┆ null     │\n",
      "│ penalex.o ┆ oi.org/10 ┆ ib in Unt ┆ ib in Unt ┆   ┆ 2025, \"ci ┆ 3T09:14:1 ┆ 4         ┆          │\n",
      "│ rg/W27708 ┆ .1056/nej ┆ reated<i> ┆ reated<i> ┆   ┆ ted_by_co ┆ 0.189462  ┆           ┆          │\n",
      "│ 280…      ┆ moa…      ┆ EGF…      ┆ EGF…      ┆   ┆ un…       ┆           ┆           ┆          │\n",
      "│ https://o ┆ https://d ┆ Nivolumab ┆ Nivolumab ┆ … ┆ [{\"year\": ┆ 2025-04-2 ┆ 2018-03-2 ┆ null     │\n",
      "│ penalex.o ┆ oi.org/10 ┆ plus Ipil ┆ plus Ipil ┆   ┆ 2025, \"ci ┆ 4T18:22:5 ┆ 9         ┆          │\n",
      "│ rg/W27929 ┆ .1056/nej ┆ imumab    ┆ imumab    ┆   ┆ ted_by_co ┆ 3.436049  ┆           ┆          │\n",
      "│ 372…      ┆ moa…      ┆ vers…     ┆ vers…     ┆   ┆ un…       ┆           ┆           ┆          │\n",
      "│ https://o ┆ https://d ┆ The IASLC ┆ The IASLC ┆ … ┆ [{\"year\": ┆ 2025-04-2 ┆ 2016-06-2 ┆ true     │\n",
      "│ penalex.o ┆ oi.org/10 ┆ Lung      ┆ Lung      ┆   ┆ 2025, \"ci ┆ 8T11:21:2 ┆ 4         ┆          │\n",
      "│ rg/W22282 ┆ .1016/j.j ┆ Cancer    ┆ Cancer    ┆   ┆ ted_by_co ┆ 3.759989  ┆           ┆          │\n",
      "│ 214…      ┆ tho…      ┆ Staging … ┆ Staging … ┆   ┆ un…       ┆           ┆           ┆          │\n",
      "└───────────┴───────────┴───────────┴───────────┴───┴───────────┴───────────┴───────────┴──────────┘\n"
     ]
    }
   ],
   "source": [
    "import polars as pl\n",
    "\n",
    "# Read the Parquet file\n",
    "df = pl.read_parquet('all_works_16_20.parquet')\n",
    "\n",
    "# Show first few rows\n",
    "print(df.head())\n"
   ]
  },
  {
   "cell_type": "code",
   "execution_count": 4,
   "id": "4e4edebd-ed61-4dc0-8652-b0e20abd05e1",
   "metadata": {},
   "outputs": [
    {
     "data": {
      "text/plain": [
       "(81354, 52)"
      ]
     },
     "execution_count": 4,
     "metadata": {},
     "output_type": "execute_result"
    }
   ],
   "source": [
    "df.shape"
   ]
  },
  {
   "cell_type": "code",
   "execution_count": 2,
   "id": "fdec48d9-ab27-4e6d-a71a-dfe066dc5e98",
   "metadata": {},
   "outputs": [
    {
     "name": "stdout",
     "output_type": "stream",
     "text": [
      "(81354, 52)\n",
      "['id', 'doi', 'title', 'display_name', 'publication_year', 'publication_date', 'ids', 'language', 'primary_location', 'type', 'type_crossref', 'indexed_in', 'open_access', 'authorships', 'institution_assertions', 'countries_distinct_count', 'institutions_distinct_count', 'corresponding_author_ids', 'corresponding_institution_ids', 'apc_list', 'apc_paid', 'fwci', 'has_fulltext', 'fulltext_origin', 'cited_by_count', 'citation_normalized_percentile', 'cited_by_percentile_year', 'biblio', 'is_retracted', 'is_paratext', 'primary_topic', 'topics', 'keywords', 'concepts', 'mesh', 'locations_count', 'locations', 'best_oa_location', 'sustainable_development_goals', 'grants', 'datasets', 'versions', 'referenced_works_count', 'referenced_works', 'related_works', 'abstract_inverted_index', 'abstract_inverted_index_v3', 'cited_by_api_url', 'counts_by_year', 'updated_date', 'created_date', 'is_authors_truncated']\n",
      "shape: (81_354, 1)\n",
      "┌─────────────────────────────────┐\n",
      "│ title                           │\n",
      "│ ---                             │\n",
      "│ str                             │\n",
      "╞═════════════════════════════════╡\n",
      "│ Ferroptosis: A Regulated Cell … │\n",
      "│ Epidemiology, Patterns of Care… │\n",
      "│ Osimertinib in Untreated<i>EGF… │\n",
      "│ Nivolumab plus Ipilimumab vers… │\n",
      "│ The IASLC Lung Cancer Staging … │\n",
      "│ …                               │\n",
      "│ Surgical emphysema leading to … │\n",
      "│ Precision surgery using davinc… │\n",
      "│ An unusual case report of Stre… │\n",
      "│ Mediastinum                     │\n",
      "│ Sex, Gender, and Sex Hormones … │\n",
      "└─────────────────────────────────┘\n",
      "shape: (5, 52)\n",
      "┌───────────┬───────────┬───────────┬───────────┬───┬───────────┬───────────┬───────────┬──────────┐\n",
      "│ id        ┆ doi       ┆ title     ┆ display_n ┆ … ┆ counts_by ┆ updated_d ┆ created_d ┆ is_autho │\n",
      "│ ---       ┆ ---       ┆ ---       ┆ ame       ┆   ┆ _year     ┆ ate       ┆ ate       ┆ rs_trunc │\n",
      "│ str       ┆ str       ┆ str       ┆ ---       ┆   ┆ ---       ┆ ---       ┆ ---       ┆ ated     │\n",
      "│           ┆           ┆           ┆ str       ┆   ┆ str       ┆ str       ┆ str       ┆ ---      │\n",
      "│           ┆           ┆           ┆           ┆   ┆           ┆           ┆           ┆ bool     │\n",
      "╞═══════════╪═══════════╪═══════════╪═══════════╪═══╪═══════════╪═══════════╪═══════════╪══════════╡\n",
      "│ https://o ┆ https://d ┆ Reference ┆ Reference ┆ … ┆ [{\"year\": ┆ 2025-05-0 ┆ 2019-01-1 ┆ null     │\n",
      "│ penalex.o ┆ oi.org/10 ┆ -based    ┆ -based    ┆   ┆ 2025, \"ci ┆ 2T11:35:5 ┆ 1         ┆          │\n",
      "│ rg/W29075 ┆ .1038/s41 ┆ analysis  ┆ analysis  ┆   ┆ ted_by_co ┆ 1.245301  ┆           ┆          │\n",
      "│ 141…      ┆ 590…      ┆ of lu…    ┆ of lu…    ┆   ┆ un…       ┆           ┆           ┆          │\n",
      "│ https://o ┆ https://d ┆ Pembroliz ┆ Pembroliz ┆ … ┆ [{\"year\": ┆ 2025-04-2 ┆ 2019-04-1 ┆ true     │\n",
      "│ penalex.o ┆ oi.org/10 ┆ umab      ┆ umab      ┆   ┆ 2025, \"ci ┆ 8T18:47:4 ┆ 1         ┆          │\n",
      "│ rg/W29254 ┆ .1016/s01 ┆ versus    ┆ versus    ┆   ┆ ted_by_co ┆ 6.892801  ┆           ┆          │\n",
      "│ 463…      ┆ 40-…      ┆ chemother ┆ chemother ┆   ┆ un…       ┆           ┆           ┆          │\n",
      "│           ┆           ┆ …         ┆ …         ┆   ┆           ┆           ┆           ┆          │\n",
      "│ https://o ┆ https://d ┆ Pembroliz ┆ Pembroliz ┆ … ┆ [{\"year\": ┆ 2025-04-2 ┆ 2019-02-2 ┆ null     │\n",
      "│ penalex.o ┆ oi.org/10 ┆ umab plus ┆ umab plus ┆   ┆ 2025, \"ci ┆ 3T18:43:3 ┆ 1         ┆          │\n",
      "│ rg/W29137 ┆ .1056/nej ┆ Axitinib  ┆ Axitinib  ┆   ┆ ted_by_co ┆ 7.893008  ┆           ┆          │\n",
      "│ 450…      ┆ moa…      ┆ ve…       ┆ ve…       ┆   ┆ un…       ┆           ┆           ┆          │\n",
      "│ https://o ┆ https://d ┆ The CoQ   ┆ The CoQ   ┆ … ┆ [{\"year\": ┆ 2025-04-2 ┆ 2019-10-2 ┆ null     │\n",
      "│ penalex.o ┆ oi.org/10 ┆ oxidoredu ┆ oxidoredu ┆   ┆ 2025, \"ci ┆ 5T18:17:3 ┆ 5         ┆          │\n",
      "│ rg/W29804 ┆ .1038/s41 ┆ ctase     ┆ ctase     ┆   ┆ ted_by_co ┆ 1.734212  ┆           ┆          │\n",
      "│ 728…      ┆ 586…      ┆ FSP1 ac…  ┆ FSP1 ac…  ┆   ┆ un…       ┆           ┆           ┆          │\n",
      "│ https://o ┆ https://d ┆ Epidemiol ┆ Epidemiol ┆ … ┆ [{\"year\": ┆ 2025-04-2 ┆ 2019-04-2 ┆ null     │\n",
      "│ penalex.o ┆ oi.org/10 ┆ ogy of    ┆ ogy of    ┆   ┆ 2025, \"ci ┆ 3T11:23:4 ┆ 5         ┆          │\n",
      "│ rg/W29374 ┆ .14740/wj ┆ Prostate  ┆ Prostate  ┆   ┆ ted_by_co ┆ 9.880974  ┆           ┆          │\n",
      "│ 838…      ┆ on1…      ┆ Cance…    ┆ Cance…    ┆   ┆ un…       ┆           ┆           ┆          │\n",
      "└───────────┴───────────┴───────────┴───────────┴───┴───────────┴───────────┴───────────┴──────────┘\n"
     ]
    }
   ],
   "source": [
    "# Number of rows and columns\n",
    "print(df.shape)\n",
    "\n",
    "# Show column names\n",
    "print(df.columns)\n",
    "\n",
    "# Look at one column, e.g., title\n",
    "print(df.select('title'))\n",
    "\n",
    "# Filter papers from 2019\n",
    "df_2019 = df.filter(pl.col('publication_year') == 2019)\n",
    "print(df_2019.head())\n"
   ]
  },
  {
   "cell_type": "code",
   "execution_count": 5,
   "id": "fb78a7c7-2a8f-4bfa-aab4-ecde97fce7f2",
   "metadata": {},
   "outputs": [
    {
     "data": {
      "text/plain": [
       "(20123, 52)"
      ]
     },
     "execution_count": 5,
     "metadata": {},
     "output_type": "execute_result"
    }
   ],
   "source": [
    "df_2019.shape"
   ]
  },
  {
   "cell_type": "code",
   "execution_count": null,
   "id": "987abf24-d152-4d90-a75f-16c10640f3c7",
   "metadata": {},
   "outputs": [],
   "source": []
  },
  {
   "cell_type": "code",
   "execution_count": null,
   "id": "b351808f-5e4e-4fd9-acce-73033b1dd701",
   "metadata": {},
   "outputs": [],
   "source": []
  }
 ],
 "metadata": {
  "kernelspec": {
   "display_name": "Python 3 (ipykernel)",
   "language": "python",
   "name": "python3"
  },
  "language_info": {
   "codemirror_mode": {
    "name": "ipython",
    "version": 3
   },
   "file_extension": ".py",
   "mimetype": "text/x-python",
   "name": "python",
   "nbconvert_exporter": "python",
   "pygments_lexer": "ipython3",
   "version": "3.12.9"
  }
 },
 "nbformat": 4,
 "nbformat_minor": 5
}
